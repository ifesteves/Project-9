{
 "cells": [
  {
   "cell_type": "markdown",
   "metadata": {},
   "source": [
    "Olá, Isabelle!\n",
    "\n",
    "Meu nome é Luiz. Fico feliz em revisar seu projeto. Ao longo do texto farei algumas observações sobre melhorias no código e também farei comentários sobre suas percepções sobre o assunto. Estarei aberto a feedbacks e discussões sobre o tema.\n",
    "\n",
    "**Peço que mantenha e não altere os comentários que eu fizer por aqui para que possamos nos localizar posteriormente, ok?**\n",
    "\n",
    "Mais uma coisa, vamos utilizar um código de cores para você entender o meu feedback no seu notebook. Funciona assim:\n",
    "\n",
    "<div class=\"alert alert-block alert-success\">\n",
    "<b> Comentário do revisor: </b> <a class=\"tocSkip\"></a>\n",
    "\n",
    "Sucesso. Tudo foi feito corretamente.\n",
    "</div>\n",
    "\n",
    "<div class=\"alert alert-block alert-warning\">\n",
    "<b>Comentário do revisor: </b> <a class=\"tocSkip\"></a>\n",
    "\n",
    "Alerta não crítico, mas que pode ser corrigido para melhoria geral no seu código/análise.\n",
    "</div>\n",
    "\n",
    "<div class=\"alert alert-block alert-danger\">\n",
    "\n",
    "<b>Comentário do revisor: </b> <a class=\"tocSkip\"></a>\n",
    "    \n",
    "Erro que precisa ser arrumado, caso contrário seu projeto **não** será aceito.\n",
    "</div>\n",
    "\n",
    "Você pode interagir comigo através dessa célula:\n",
    "\n",
    "<div class=\"alert alert-block alert-info\">\n",
    "<b>Resposta do Aluno.</b> <a class=\"tocSkip\"></a>\n",
    "</div>\n"
   ]
  },
  {
   "cell_type": "code",
   "execution_count": 1,
   "metadata": {},
   "outputs": [],
   "source": [
    "import pandas as pd\n",
    "import matplotlib.pyplot as plt\n",
    "import seaborn as sns"
   ]
  },
  {
   "cell_type": "code",
   "execution_count": 2,
   "metadata": {},
   "outputs": [],
   "source": [
    "data = pd.read_csv('/datasets/logs_exp_us.csv', sep='\\t')"
   ]
  },
  {
   "cell_type": "code",
   "execution_count": 3,
   "metadata": {},
   "outputs": [
    {
     "name": "stdout",
     "output_type": "stream",
     "text": [
      "                 EventName         DeviceIDHash  EventTimestamp  ExpId\n",
      "0         MainScreenAppear  4575588528974610257      1564029816    246\n",
      "1         MainScreenAppear  7416695313311560658      1564053102    246\n",
      "2  PaymentScreenSuccessful  3518123091307005509      1564054127    248\n",
      "3         CartScreenAppear  3518123091307005509      1564054127    248\n",
      "4  PaymentScreenSuccessful  6217807653094995999      1564055322    248\n"
     ]
    }
   ],
   "source": [
    "print(data.head())"
   ]
  },
  {
   "cell_type": "code",
   "execution_count": 4,
   "metadata": {},
   "outputs": [
    {
     "name": "stdout",
     "output_type": "stream",
     "text": [
      "       DeviceIDHash  EventTimestamp          ExpId\n",
      "count  2.441260e+05    2.441260e+05  244126.000000\n",
      "mean   4.627568e+18    1.564914e+09     247.022296\n",
      "std    2.642425e+18    1.771343e+05       0.824434\n",
      "min    6.888747e+15    1.564030e+09     246.000000\n",
      "25%    2.372212e+18    1.564757e+09     246.000000\n",
      "50%    4.623192e+18    1.564919e+09     247.000000\n",
      "75%    6.932517e+18    1.565075e+09     248.000000\n",
      "max    9.222603e+18    1.565213e+09     248.000000\n"
     ]
    }
   ],
   "source": [
    "print(data.describe())"
   ]
  },
  {
   "cell_type": "code",
   "execution_count": 5,
   "metadata": {},
   "outputs": [
    {
     "name": "stdout",
     "output_type": "stream",
     "text": [
      "<class 'pandas.core.frame.DataFrame'>\n",
      "RangeIndex: 244126 entries, 0 to 244125\n",
      "Data columns (total 4 columns):\n",
      " #   Column          Non-Null Count   Dtype \n",
      "---  ------          --------------   ----- \n",
      " 0   EventName       244126 non-null  object\n",
      " 1   DeviceIDHash    244126 non-null  int64 \n",
      " 2   EventTimestamp  244126 non-null  int64 \n",
      " 3   ExpId           244126 non-null  int64 \n",
      "dtypes: int64(3), object(1)\n",
      "memory usage: 7.5+ MB\n",
      "None\n"
     ]
    }
   ],
   "source": [
    "print(data.info())"
   ]
  },
  {
   "cell_type": "markdown",
   "metadata": {},
   "source": [
    "<div class=\"alert alert-block alert-success\">\n",
    "<b> Comentário do revisor: </b> <a class=\"tocSkip\"></a>\n",
    "\n",
    "Os arquivos foram abertos corretamente e previamente estudados usando os métodos `head()`, `info()` e `describe()`.\n",
    "</div>\n"
   ]
  },
  {
   "cell_type": "code",
   "execution_count": 6,
   "metadata": {},
   "outputs": [],
   "source": [
    "data.columns = ['Evento', 'IDDispositivo', 'TimestampEvento', 'IDExperimento']"
   ]
  },
  {
   "cell_type": "markdown",
   "metadata": {},
   "source": [
    "<div class=\"alert alert-block alert-warning\">\n",
    "<b> Comentário do revisor: </b> <a class=\"tocSkip\"></a>\n",
    "\n",
    "As colunas foram renomeadas. Sugestão: tente usar o padrão `camelcase` ou `snake_case` para nome de colunas e mantenha o padrão por todo o seu código.\n",
    "</div>\n"
   ]
  },
  {
   "cell_type": "code",
   "execution_count": 7,
   "metadata": {},
   "outputs": [
    {
     "name": "stdout",
     "output_type": "stream",
     "text": [
      "Evento             0\n",
      "IDDispositivo      0\n",
      "TimestampEvento    0\n",
      "IDExperimento      0\n",
      "dtype: int64\n"
     ]
    }
   ],
   "source": [
    "print(data.isnull().sum())"
   ]
  },
  {
   "cell_type": "markdown",
   "metadata": {},
   "source": [
    "<div class=\"alert alert-block alert-success\">\n",
    "<b> Comentário do revisor: </b> <a class=\"tocSkip\"></a>\n",
    "\n",
    "O estudante verificou a existência de dados ausentes.\n",
    "</div>\n"
   ]
  },
  {
   "cell_type": "code",
   "execution_count": 8,
   "metadata": {},
   "outputs": [
    {
     "name": "stdout",
     "output_type": "stream",
     "text": [
      "Evento             object\n",
      "IDDispositivo       int64\n",
      "TimestampEvento     int64\n",
      "IDExperimento       int64\n",
      "dtype: object\n"
     ]
    }
   ],
   "source": [
    "print(data.dtypes)"
   ]
  },
  {
   "cell_type": "code",
   "execution_count": 9,
   "metadata": {},
   "outputs": [],
   "source": [
    "data['TimestampEvento'] = pd.to_datetime(data['TimestampEvento'], unit='s')"
   ]
  },
  {
   "cell_type": "code",
   "execution_count": 10,
   "metadata": {},
   "outputs": [],
   "source": [
    "data['Data'] = data['TimestampEvento'].dt.date\n",
    "\n",
    "data['Hora'] = data['TimestampEvento'].dt.time"
   ]
  },
  {
   "cell_type": "code",
   "execution_count": 11,
   "metadata": {},
   "outputs": [
    {
     "name": "stdout",
     "output_type": "stream",
     "text": [
      "                    Evento        IDDispositivo     TimestampEvento  \\\n",
      "0         MainScreenAppear  4575588528974610257 2019-07-25 04:43:36   \n",
      "1         MainScreenAppear  7416695313311560658 2019-07-25 11:11:42   \n",
      "2  PaymentScreenSuccessful  3518123091307005509 2019-07-25 11:28:47   \n",
      "3         CartScreenAppear  3518123091307005509 2019-07-25 11:28:47   \n",
      "4  PaymentScreenSuccessful  6217807653094995999 2019-07-25 11:48:42   \n",
      "\n",
      "   IDExperimento        Data      Hora  \n",
      "0            246  2019-07-25  04:43:36  \n",
      "1            246  2019-07-25  11:11:42  \n",
      "2            248  2019-07-25  11:28:47  \n",
      "3            248  2019-07-25  11:28:47  \n",
      "4            248  2019-07-25  11:48:42  \n"
     ]
    }
   ],
   "source": [
    "print(data.head())"
   ]
  },
  {
   "cell_type": "markdown",
   "metadata": {},
   "source": [
    "<div class=\"alert alert-block alert-success\">\n",
    "<b> Comentário do revisor: </b> <a class=\"tocSkip\"></a>\n",
    "\n",
    "Os tipos de dados foram verificados e convertidos para os tipos adequados.\n",
    "</div>\n"
   ]
  },
  {
   "cell_type": "code",
   "execution_count": 12,
   "metadata": {},
   "outputs": [
    {
     "name": "stdout",
     "output_type": "stream",
     "text": [
      "Total de eventos nos diários: 244126\n"
     ]
    }
   ],
   "source": [
    "total_eventos = len(data)\n",
    "print(f\"Total de eventos nos diários: {total_eventos}\")"
   ]
  },
  {
   "cell_type": "markdown",
   "metadata": {},
   "source": [
    "<div class=\"alert alert-block alert-success\">\n",
    "<b> Comentário do revisor: </b> <a class=\"tocSkip\"></a>\n",
    "\n",
    "Perfeito!\n",
    "</div>\n"
   ]
  },
  {
   "cell_type": "code",
   "execution_count": 13,
   "metadata": {},
   "outputs": [
    {
     "name": "stdout",
     "output_type": "stream",
     "text": [
      "Total de usuários nos diários: 7551\n"
     ]
    }
   ],
   "source": [
    "usuarios_unicos = data['IDDispositivo'].nunique()\n",
    "print(f\"Total de usuários nos diários: {usuarios_unicos}\")"
   ]
  },
  {
   "cell_type": "markdown",
   "metadata": {},
   "source": [
    "<div class=\"alert alert-block alert-success\">\n",
    "<b> Comentário do revisor: </b> <a class=\"tocSkip\"></a>\n",
    "\n",
    "O número de usuários únicos foi calculado.\n",
    "</div>\n"
   ]
  },
  {
   "cell_type": "code",
   "execution_count": 14,
   "metadata": {},
   "outputs": [
    {
     "name": "stdout",
     "output_type": "stream",
     "text": [
      "Número médio de eventos por usuário: 32.33\n"
     ]
    }
   ],
   "source": [
    "media_eventos_por_usuario = total_eventos / usuarios_unicos\n",
    "print(f\"Número médio de eventos por usuário: {media_eventos_por_usuario:.2f}\")"
   ]
  },
  {
   "cell_type": "markdown",
   "metadata": {},
   "source": [
    "<div class=\"alert alert-block alert-success\">\n",
    "<b> Comentário do revisor: </b> <a class=\"tocSkip\"></a>\n",
    "\n",
    "O número médio de eventos por usuário foi calculado.\n",
    "</div>\n"
   ]
  },
  {
   "cell_type": "code",
   "execution_count": 15,
   "metadata": {},
   "outputs": [
    {
     "name": "stdout",
     "output_type": "stream",
     "text": [
      "Data mínima: 2019-07-25 04:43:36\n",
      "Data máxima: 2019-08-07 21:15:17\n"
     ]
    }
   ],
   "source": [
    "data_minima = data['TimestampEvento'].min()\n",
    "data_maxima = data['TimestampEvento'].max()\n",
    "\n",
    "print(f\"Data mínima: {data_minima}\")\n",
    "print(f\"Data máxima: {data_maxima}\")"
   ]
  },
  {
   "cell_type": "code",
   "execution_count": 16,
   "metadata": {},
   "outputs": [
    {
     "data": {
      "image/png": "[encoded data removed]",
      "text/plain": [
       "<Figure size 864x432 with 1 Axes>"
      ]
     },
     "metadata": {
      "needs_background": "light"
     },
     "output_type": "display_data"
    }
   ],
   "source": [
    "plt.figure(figsize=(12, 6))\n",
    "plt.hist(data['TimestampEvento'], bins=30, edgecolor='black')\n",
    "plt.title('Histograma por Data e Hora')\n",
    "plt.xlabel('Data e Hora')\n",
    "plt.ylabel('Número de Eventos')\n",
    "\n",
    "plt.xticks(rotation=45, ha='right')\n",
    "\n",
    "plt.show()"
   ]
  },
  {
   "cell_type": "markdown",
   "metadata": {},
   "source": [
    "Com base na análise do gráfico obtido pode-se concluir que há um número mais elevado de eventos à partir do mês 08, sendo os eventos ocorridos no mês 07 de baixa proporção. "
   ]
  },
  {
   "cell_type": "markdown",
   "metadata": {},
   "source": [
    "<div class=\"alert alert-block alert-danger\">\n",
    "<b> Comentário do revisor: </b> <a class=\"tocSkip\"></a>\n",
    "\n",
    "<s>Qual a sua interpretação da distribuição dos dados acima? Em qual momento os dados estão mais completos? Descartar eventos antigos impacta na distribuição dos dados?</s>\n",
    "</div>\n"
   ]
  },
  {
   "cell_type": "markdown",
   "metadata": {},
   "source": [
    "<div class=\"alert alert-block alert-info\">\n",
    "<b>Resposta do Aluno.</b> Interpretações adicionadas. <a class=\"tocSkip\"></a>\n",
    "</div>"
   ]
  },
  {
   "cell_type": "markdown",
   "metadata": {},
   "source": [
    "<div class=\"alert alert-block alert-danger\">\n",
    "<b> Comentário do revisor: </b> <a class=\"tocSkip\"></a>\n",
    "\n",
    "<s>Ok, mas qual é a proporção de eventos que seriam descartados se ignorarmos dados anterior a essa data? Isso pode ser calculado a partir dos eventos disponibilizados. Pense em como você pode usar essa quantidade para chegar à proporção estimada e, com esse resultado, identificar se a quantidade de eventos descartados afetaria a distribuição original dos dados. Além disso, se chegar à conclusão de que a quantidade não afeta a condução do estudo, considere se faz sentido remover esses evento do dataset.</s>\n",
    "</div>"
   ]
  },
  {
   "cell_type": "markdown",
   "metadata": {},
   "source": [
    "<div class=\"alert alert-block alert-info\">\n",
    "<b>Resposta do Aluno.</b> Correto, fiz as alterações abaixo. <a class=\"tocSkip\"></a>\n",
    "</div>"
   ]
  },
  {
   "cell_type": "code",
   "execution_count": 17,
   "metadata": {},
   "outputs": [
    {
     "name": "stdout",
     "output_type": "stream",
     "text": [
      "Proporção de eventos que seriam descartados: 1.16%\n"
     ]
    }
   ],
   "source": [
    "data_corte = pd.to_datetime('2019-08-01')\n",
    "\n",
    "dados_apos_corte = data[data['TimestampEvento'] >= data_corte]\n",
    "\n",
    "proporcao_descartados = 1 - len(dados_apos_corte) / len(data)\n",
    "\n",
    "print(f'Proporção de eventos que seriam descartados: {proporcao_descartados:.2%}')"
   ]
  },
  {
   "cell_type": "markdown",
   "metadata": {},
   "source": [
    "A proporção de eventos que seria descartada (1,16%) é considerada aceitável e a remoção dos dados antigos simplifica a análise sem prejudicar significativamente a representatividade do conjunto de dados."
   ]
  },
  {
   "cell_type": "markdown",
   "metadata": {},
   "source": [
    "<div class=\"alert alert-block alert-success\">\n",
    "<b> Comentário do revisor: </b> <a class=\"tocSkip\"></a>\n",
    "\n",
    "Perfeito!\n",
    "</div>"
   ]
  },
  {
   "cell_type": "code",
   "execution_count": 18,
   "metadata": {},
   "outputs": [],
   "source": [
    "data_corte = pd.to_datetime('2019-08-01')\n",
    "\n",
    "data = data[data['TimestampEvento'] >= data_corte]"
   ]
  },
  {
   "cell_type": "code",
   "execution_count": 19,
   "metadata": {},
   "outputs": [
    {
     "name": "stdout",
     "output_type": "stream",
     "text": [
      "Grupos experimentais presentes nos dados: [246 247 248]\n"
     ]
    }
   ],
   "source": [
    "grupos_experimentais = data['IDExperimento'].unique()\n",
    "print(f\"Grupos experimentais presentes nos dados: {grupos_experimentais}\")"
   ]
  },
  {
   "cell_type": "code",
   "execution_count": 20,
   "metadata": {},
   "outputs": [
    {
     "name": "stdout",
     "output_type": "stream",
     "text": [
      "                    Evento  Frequência\n",
      "0         MainScreenAppear      117431\n",
      "1       OffersScreenAppear       46350\n",
      "2         CartScreenAppear       42365\n",
      "3  PaymentScreenSuccessful       34113\n",
      "4                 Tutorial        1039\n"
     ]
    }
   ],
   "source": [
    "frequencia_eventos = data['Evento'].value_counts().reset_index()\n",
    "frequencia_eventos.columns = ['Evento', 'Frequência']\n",
    "print(frequencia_eventos)"
   ]
  },
  {
   "cell_type": "markdown",
   "metadata": {},
   "source": [
    "<div class=\"alert alert-block alert-success\">\n",
    "<b> Comentário do revisor: </b> <a class=\"tocSkip\"></a>\n",
    "\n",
    "Ok. Os eventos foram ordenados por frequência.\n",
    "</div>\n"
   ]
  },
  {
   "cell_type": "code",
   "execution_count": 21,
   "metadata": {},
   "outputs": [
    {
     "name": "stdout",
     "output_type": "stream",
     "text": [
      "                    Evento  Número de Usuários\n",
      "0         CartScreenAppear                3734\n",
      "1         MainScreenAppear                7419\n",
      "2       OffersScreenAppear                4593\n",
      "3  PaymentScreenSuccessful                3539\n",
      "4                 Tutorial                 840\n"
     ]
    }
   ],
   "source": [
    "usuarios_por_evento = data.groupby('Evento')['IDDispositivo'].nunique().reset_index()\n",
    "usuarios_por_evento.columns = ['Evento', 'Número de Usuários']\n",
    "print(usuarios_por_evento)"
   ]
  },
  {
   "cell_type": "markdown",
   "metadata": {},
   "source": [
    "<div class=\"alert alert-block alert-success\">\n",
    "<b> Comentário do revisor: </b> <a class=\"tocSkip\"></a>\n",
    "\n",
    "O número de usuários únicos por evento foi calculado.\n",
    "</div>\n"
   ]
  },
  {
   "cell_type": "code",
   "execution_count": 22,
   "metadata": {},
   "outputs": [
    {
     "name": "stdout",
     "output_type": "stream",
     "text": [
      "Proporção de usuários que executaram pelo menos uma vez: 0.07%\n"
     ]
    }
   ],
   "source": [
    "total_usuarios = data['IDDispositivo'].nunique()\n",
    "usuarios_executaram_pelo_menos_uma_vez = usuarios_por_evento[usuarios_por_evento['Número de Usuários'] > 0]['Número de Usuários'].count()\n",
    "proporcao_usuarios_executaram_pelo_menos_uma_vez = usuarios_executaram_pelo_menos_uma_vez / total_usuarios\n",
    "print(f\"Proporção de usuários que executaram pelo menos uma vez: {proporcao_usuarios_executaram_pelo_menos_uma_vez:.2%}\")"
   ]
  },
  {
   "cell_type": "code",
   "execution_count": 23,
   "metadata": {},
   "outputs": [
    {
     "name": "stdout",
     "output_type": "stream",
     "text": [
      "                EtapaAtual            EtapaSeguinte  ProporcaoPassagem\n",
      "0         MainScreenAppear       OffersScreenAppear           0.619086\n",
      "1       OffersScreenAppear         CartScreenAppear           0.812976\n",
      "2         CartScreenAppear  PaymentScreenSuccessful           0.947777\n",
      "3  PaymentScreenSuccessful                 Tutorial           0.237355\n"
     ]
    }
   ],
   "source": [
    "funil_eventos = data['Evento'].value_counts().index\n",
    "funil_proporcoes = []\n",
    "\n",
    "for i in range(len(funil_eventos) - 1):\n",
    "    evento_atual = funil_eventos[i]\n",
    "    evento_seguinte = funil_eventos[i + 1]\n",
    "    \n",
    "    usuarios_etapa_atual = data[data['Evento'] == evento_atual]['IDDispositivo'].nunique()\n",
    "    \n",
    "    usuarios_etapa_seguinte = data[data['Evento'] == evento_seguinte]['IDDispositivo'].nunique()\n",
    "    \n",
    "    proporcao_passagem = usuarios_etapa_seguinte / usuarios_etapa_atual\n",
    "    \n",
    "    funil_proporcoes.append({'EtapaAtual': evento_atual, 'EtapaSeguinte': evento_seguinte, 'ProporcaoPassagem': proporcao_passagem})\n",
    "\n",
    "funil_df = pd.DataFrame(funil_proporcoes)\n",
    "print(funil_df)"
   ]
  },
  {
   "cell_type": "markdown",
   "metadata": {},
   "source": [
    "<div class=\"alert alert-block alert-success\">\n",
    "<b> Comentário do revisor: </b> <a class=\"tocSkip\"></a>\n",
    "\n",
    "Proporção em cada etapa do funil calculada.\n",
    "</div>\n"
   ]
  },
  {
   "cell_type": "code",
   "execution_count": 24,
   "metadata": {},
   "outputs": [
    {
     "name": "stdout",
     "output_type": "stream",
     "text": [
      "Fase com maior perda de usuários: PaymentScreenSuccessful para Tutorial\n"
     ]
    }
   ],
   "source": [
    "maior_perda_fase = funil_df[funil_df['ProporcaoPassagem'] < 1].sort_values('ProporcaoPassagem').iloc[0]\n",
    "print(f\"Fase com maior perda de usuários: {maior_perda_fase['EtapaAtual']} para {maior_perda_fase['EtapaSeguinte']}\")"
   ]
  },
  {
   "cell_type": "markdown",
   "metadata": {},
   "source": [
    "<div class=\"alert alert-block alert-success\">\n",
    "<b> Comentário do revisor: </b> <a class=\"tocSkip\"></a>\n",
    "\n",
    "Respondeu à pergunta: \"em qual estágio ocorre a perda de maior percentual de usuários?\"\n",
    "</div>\n"
   ]
  },
  {
   "cell_type": "code",
   "execution_count": 25,
   "metadata": {},
   "outputs": [
    {
     "name": "stdout",
     "output_type": "stream",
     "text": [
      "Parcela de usuários que faz o caminho inteiro até o pagamento: 47.70%\n"
     ]
    }
   ],
   "source": [
    "usuarios_primeiro_evento = data[data['Evento'] == funil_df['EtapaAtual'].iloc[0]]['IDDispositivo'].nunique()\n",
    "usuarios_pagamento = data[data['Evento'] == 'PaymentScreenSuccessful']['IDDispositivo'].nunique()\n",
    "proporcao_caminho_completo = usuarios_pagamento / usuarios_primeiro_evento\n",
    "print(f\"Parcela de usuários que faz o caminho inteiro até o pagamento: {proporcao_caminho_completo:.2%}\")"
   ]
  },
  {
   "cell_type": "code",
   "execution_count": 26,
   "metadata": {},
   "outputs": [
    {
     "name": "stdout",
     "output_type": "stream",
     "text": [
      "IDExperimento\n",
      "246    2484\n",
      "247    2513\n",
      "248    2537\n",
      "Name: IDDispositivo, dtype: int64\n"
     ]
    }
   ],
   "source": [
    "contagem_usuarios_por_grupo = data.groupby('IDExperimento')['IDDispositivo'].nunique()\n",
    "print(contagem_usuarios_por_grupo)"
   ]
  },
  {
   "cell_type": "code",
   "execution_count": 27,
   "metadata": {},
   "outputs": [],
   "source": [
    "from scipy.stats import ttest_ind"
   ]
  },
  {
   "cell_type": "code",
   "execution_count": 28,
   "metadata": {},
   "outputs": [
    {
     "name": "stdout",
     "output_type": "stream",
     "text": [
      "Estatística do teste t: -10.49700079384288\n",
      "Valor p: 9.094481323469247e-26\n",
      "Diferença estatisticamente significativa entre os grupos 246 e 247\n"
     ]
    }
   ],
   "source": [
    "grupo_246 = data[data['IDExperimento'] == 246]['IDDispositivo']\n",
    "grupo_247 = data[data['IDExperimento'] == 247]['IDDispositivo']\n",
    "\n",
    "stat, p_valor = ttest_ind(grupo_246, grupo_247)\n",
    "\n",
    "print(f\"Estatística do teste t: {stat}\")\n",
    "print(f\"Valor p: {p_valor}\")\n",
    "\n",
    "if p_valor < 0.05:\n",
    "    print(\"Diferença estatisticamente significativa entre os grupos 246 e 247\")\n",
    "else:\n",
    "    print(\"Não há diferença estatisticamente significativa entre os grupos 246 e 247\")"
   ]
  },
  {
   "cell_type": "code",
   "execution_count": 29,
   "metadata": {},
   "outputs": [
    {
     "name": "stdout",
     "output_type": "stream",
     "text": [
      "Evento mais popular: MainScreenAppear\n"
     ]
    }
   ],
   "source": [
    "evento_mais_popular = data['Evento'].value_counts().idxmax()\n",
    "print(f\"Evento mais popular: {evento_mais_popular}\")"
   ]
  },
  {
   "cell_type": "code",
   "execution_count": 30,
   "metadata": {},
   "outputs": [],
   "source": [
    "def teste_estatistico_por_evento(data, evento, grupo_controle_1, grupo_controle_2, grupo_teste):\n",
    "    \n",
    "    dados_grupo_controle_1 = data[(data['IDExperimento'] == grupo_controle_1) & (data['Evento'] == evento)]['IDDispositivo']\n",
    "    dados_grupo_controle_2 = data[(data['IDExperimento'] == grupo_controle_2) & (data['Evento'] == evento)]['IDDispositivo']\n",
    "    dados_grupo_teste = data[(data['IDExperimento'] == grupo_teste) & (data['Evento'] == evento)]['IDDispositivo']\n",
    "\n",
    "    _, p_valor_controle_1_controle_2 = ttest_ind(dados_grupo_controle_1, dados_grupo_controle_2)\n",
    "    _, p_valor_controle_1_teste = ttest_ind(dados_grupo_controle_1, dados_grupo_teste)\n",
    "    _, p_valor_controle_2_teste = ttest_ind(dados_grupo_controle_2, dados_grupo_teste)\n",
    "\n",
    "    return p_valor_controle_1_controle_2, p_valor_controle_1_teste, p_valor_controle_2_teste"
   ]
  },
  {
   "cell_type": "code",
   "execution_count": 31,
   "metadata": {},
   "outputs": [
    {
     "name": "stdout",
     "output_type": "stream",
     "text": [
      "P-valor entre grupos de controle 246 e 247 para o evento mais popular: 5.1858664140087525e-06\n",
      "P-valor entre grupo de controle 246 e grupo de teste para o evento mais popular: 0.585147752596787\n",
      "P-valor entre grupo de controle 247 e grupo de teste para o evento mais popular: 1.6094303938708042e-07\n"
     ]
    }
   ],
   "source": [
    "grupo_controle_1 = 246\n",
    "grupo_controle_2 = 247\n",
    "grupo_teste = 248\n",
    "\n",
    "p_valor_controle_1_controle_2, p_valor_controle_1_teste, p_valor_controle_2_teste = teste_estatistico_por_evento(data, evento_mais_popular, grupo_controle_1, grupo_controle_2, grupo_teste)\n",
    "\n",
    "print(f\"P-valor entre grupos de controle 246 e 247 para o evento mais popular: {p_valor_controle_1_controle_2}\")\n",
    "print(f\"P-valor entre grupo de controle 246 e grupo de teste para o evento mais popular: {p_valor_controle_1_teste}\")\n",
    "print(f\"P-valor entre grupo de controle 247 e grupo de teste para o evento mais popular: {p_valor_controle_2_teste}\")"
   ]
  },
  {
   "cell_type": "code",
   "execution_count": 32,
   "metadata": {},
   "outputs": [
    {
     "name": "stdout",
     "output_type": "stream",
     "text": [
      "Número total de testes de hipóteses: 15\n",
      "Nível de significância corrigido (método de Bonferroni): 0.0033333333333333335\n"
     ]
    }
   ],
   "source": [
    "numero_eventos_distintos = data['Evento'].nunique()\n",
    "\n",
    "numero_testes_hipoteses = numero_eventos_distintos * 3\n",
    "\n",
    "nivel_significancia_padrao = 0.05\n",
    "\n",
    "nivel_significancia_corrigido = nivel_significancia_padrao / numero_testes_hipoteses\n",
    "\n",
    "print(f\"Número total de testes de hipóteses: {numero_testes_hipoteses}\")\n",
    "print(f\"Nível de significância corrigido (método de Bonferroni): {nivel_significancia_corrigido}\")"
   ]
  },
  {
   "cell_type": "markdown",
   "metadata": {},
   "source": [
    "<div class=\"alert alert-block alert-success\">\n",
    "<b> Comentário do revisor: </b> <a class=\"tocSkip\"></a>\n",
    "\n",
    "Os testes estatísticos foram calculados para os grupos de usuários.\n",
    "</div>\n"
   ]
  },
  {
   "cell_type": "markdown",
   "metadata": {},
   "source": [
    "<b>Total de Eventos e Usuários:</b> \n",
    "Há um total de 244.126 eventos registrados nos diários, envolvendo 7.551 usuários.\n",
    "Cada usuário, em média, interagiu aproximadamente 32,33 vezes com o aplicativo durante o período de 14 dias.\n",
    "    \n",
    "<b>Período de Análise:</b>\n",
    "Os dados cobrem um período de 14 dias, desde 25 de julho de 2019 até 7 de agosto de 2019.\n",
    "    \n",
    "<b>Grupos Experimentais:</b>\n",
    "Existem três grupos experimentais nos dados: 246, 247 e 248.\n",
    "    \n",
    "<b>Funil de Eventos:</b>\n",
    "O funil de eventos mostra a progressão dos usuários através das etapas principais: MainScreenAppear, OffersScreenAppear, CartScreenAppear, PaymentScreenSuccessful e Tutorial, mostrando que há uma considerável perda de usuários ao longo do processo.\n",
    "A fase com a maior perda de usuários é de PaymentScreenSuccessful para Tutorial.\n",
    "A parcela de usuários que fazem o caminho inteiro até o pagamento é de 47,70%.\n",
    "    \n",
    "<b>Experimento A/A/B:</b>\n",
    "O teste A/A/B entre os grupos 246, 247 e 248 revelou diferenças estatisticamente significativas entre os grupos 246 e 247.\n",
    "O teste de hipótese para o evento mais popular, MainScreenAppear, não mostrou diferenças significativas entre os grupos 246 e 248, mas houve diferenças entre os grupos 246-247 e 247-248.\n",
    "\n",
    "<b>Resultados do Teste de Hipóteses:</b>\n",
    "Os p-valores dos testes de hipóteses foram ajustados usando o método de Bonferroni devido ao grande número de comparações (15 testes).\n",
    "Para o evento mais popular, MainScreenAppear, não houve diferença estatisticamente significativa entre o grupo de controle 246 e o grupo de teste 248. No entanto, houve diferenças significativas entre os grupos 246-247 e 247-248.\n",
    "    \n",
    "<b>Número de Testes de Hipóteses:</b>\n",
    "Foram realizados 15 testes de hipóteses para diversos eventos.\n",
    "O nível de significância corrigido usando o método de Bonferroni é 0,0033.\n",
    "    \n",
    "<b>Conclusões Gerais:</b>\n",
    "A mudança nas fontes no grupo 248 pode ter impacto em alguns eventos em comparação com os grupos de controle 246 e 247.\n",
    "O evento mais popular, MainScreenAppear, parece não ser afetado significativamente pelas mudanças nas fontes, mas outros eventos podem apresentar diferenças.\n",
    "Analisar eventos específicos que mostraram diferenças significativas entre os grupos para entender melhor o impacto da mudança nas fontes.\n",
    "Explorar visualizações adicionais e segmentações para obter insights mais detalhados sobre o comportamento dos usuários."
   ]
  },
  {
   "cell_type": "markdown",
   "metadata": {},
   "source": [
    "<div class=\"alert alert-block alert-danger\">\n",
    "<b> Comentário revisor:</b> <a class=\"tocSkip\"></a>\n",
    "\n",
    "<s>Apresente conclusões intermediárias das suas análises e não somente a execução do código. Essa etapa é importante para que possamos avaliar a sua forma de pensar e resolver os problemas.</s>\n",
    "</div>\n"
   ]
  },
  {
   "cell_type": "markdown",
   "metadata": {},
   "source": [
    "<div class=\"alert alert-block alert-info\">\n",
    "<b>Resposta do Aluno.</b> Foi alterado, adicionando também conclusões intermediárias. <a class=\"tocSkip\"></a>\n",
    "</div>"
   ]
  },
  {
   "cell_type": "markdown",
   "metadata": {},
   "source": [
    "<div class=\"alert alert-block alert-danger\">\n",
    "<b> Comentário geral do revisor v1</b> <a class=\"tocSkip\"></a>\n",
    "\n",
    "<s>Obrigado por enviar o seu projeto e pelo esforço de chegar até aqui. O seu projeto possui alguns pontos bem interessantes, dos quais eu destaco:\n",
    "    \n",
    "- Código bem simples e estruturado usando funções\n",
    "- Comentários sucintos e bem objetivos\n",
    "- Análises bem detalhadas em cada etapa do projeto\n",
    "    \n",
    "Entretanto, deixei alguns comentários em alguns trechos que precisam de ajuste. Além dos comentários que deixei, você poderia ter usado mais gráficos para analisar os dado do funil de forma mais ilustrativa. \n",
    "    \n",
    "Qualquer dúvida, pode contar comigo.   \n",
    "    \n",
    "    \n",
    "**Até breve!**</s>\n",
    "\n",
    "</div>\n"
   ]
  },
  {
   "cell_type": "markdown",
   "metadata": {},
   "source": [
    "<div class=\"alert alert-block alert-danger\">\n",
    "<b> Comentário geral do revisor v2</b> <a class=\"tocSkip\"></a>\n",
    "\n",
    "<s>Obrigado por enviar o seu projeto e fazer os ajustes sugeridos. Essa versão do seu projeto está bem melhor. Entretanto, precisamos ainda trabalhar um pouco mais na análise da distribuição dos dados de eventos. Estamos quase lá, mais alguns poucos ajustes e chegamos a uma boa solução.\n",
    "    \n",
    "<br>\n",
    "    \n",
    "Qualquer dúvida, pode contar comigo.   \n",
    "    \n",
    "    \n",
    "**Até breve!**</s>\n",
    "\n",
    "</div>"
   ]
  },
  {
   "cell_type": "markdown",
   "metadata": {},
   "source": [
    "<div class=\"alert alert-block alert-danger\">\n",
    "<b> Comentário geral do revisor v3</b> <a class=\"tocSkip\"></a>\n",
    "\n",
    "Obrigado por enviar o seu projeto e fazer os ajustes sugeridos. Essa versão do seu trabalho ficou muito melhor! Espero que as sugestões sejam relevantes para projetos futuros.\n",
    "    \n",
    "    \n",
    "Te desejo uma jornada de muito sucesso e aprendizado.\n",
    "    \n",
    "    \n",
    "Qualquer dúvida, pode contar comigo.   \n",
    "    \n",
    "    \n",
    "**Até breve!**\n",
    "\n",
    "</div>"
   ]
  }
 ],
 "metadata": {
  "kernelspec": {
   "display_name": "Python 3 (ipykernel)",
   "language": "python",
   "name": "python3"
  },
  "language_info": {
   "codemirror_mode": {
    "name": "ipython",
    "version": 3
   },
   "file_extension": ".py",
   "mimetype": "text/x-python",
   "name": "python",
   "nbconvert_exporter": "python",
   "pygments_lexer": "ipython3",
   "version": "3.9.5"
  },
  "toc": {
   "base_numbering": 1,
   "nav_menu": {},
   "number_sections": true,
   "sideBar": true,
   "skip_h1_title": true,
   "title_cell": "Table of Contents",
   "title_sidebar": "Contents",
   "toc_cell": false,
   "toc_position": {},
   "toc_section_display": true,
   "toc_window_display": false
  }
 },
 "nbformat": 4,
 "nbformat_minor": 2
}
